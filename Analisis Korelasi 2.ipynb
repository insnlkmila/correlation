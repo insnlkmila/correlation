{
 "cells": [
  {
   "cell_type": "code",
   "execution_count": 4,
   "metadata": {},
   "outputs": [],
   "source": [
    "import pandas as pd\n",
    "#import the library"
   ]
  },
  {
   "cell_type": "code",
   "execution_count": 5,
   "metadata": {},
   "outputs": [],
   "source": [
    "FILE_NAME = 'Analisis Korelasii.xlsx'\n",
    "#choose the file, once you need to keep them on the same file"
   ]
  },
  {
   "cell_type": "code",
   "execution_count": 41,
   "metadata": {
    "scrolled": true
   },
   "outputs": [
    {
     "data": {
      "text/html": [
       "<div>\n",
       "<style scoped>\n",
       "    .dataframe tbody tr th:only-of-type {\n",
       "        vertical-align: middle;\n",
       "    }\n",
       "\n",
       "    .dataframe tbody tr th {\n",
       "        vertical-align: top;\n",
       "    }\n",
       "\n",
       "    .dataframe thead th {\n",
       "        text-align: right;\n",
       "    }\n",
       "</style>\n",
       "<table border=\"1\" class=\"dataframe\">\n",
       "  <thead>\n",
       "    <tr style=\"text-align: right;\">\n",
       "      <th></th>\n",
       "      <th>Jenis Kelamin</th>\n",
       "      <th>Jenis Tinggal</th>\n",
       "      <th>Alat Transportasi</th>\n",
       "      <th>Pekerjaan Ayah</th>\n",
       "      <th>Penghasilan Ayah</th>\n",
       "      <th>Pekerjaan Ibu</th>\n",
       "      <th>Penghasilan Ibu</th>\n",
       "      <th>Pemilik Kartu Miskin</th>\n",
       "      <th>Beasiswa</th>\n",
       "      <th>Layak Penerima Beasiswa</th>\n",
       "    </tr>\n",
       "  </thead>\n",
       "  <tbody>\n",
       "    <tr>\n",
       "      <th>0</th>\n",
       "      <td>1</td>\n",
       "      <td>3</td>\n",
       "      <td>9</td>\n",
       "      <td>9</td>\n",
       "      <td>7.0</td>\n",
       "      <td>9</td>\n",
       "      <td>7.0</td>\n",
       "      <td>1</td>\n",
       "      <td>Tidak</td>\n",
       "      <td>1</td>\n",
       "    </tr>\n",
       "    <tr>\n",
       "      <th>1</th>\n",
       "      <td>1</td>\n",
       "      <td>2</td>\n",
       "      <td>9</td>\n",
       "      <td>12</td>\n",
       "      <td>7.0</td>\n",
       "      <td>6</td>\n",
       "      <td>2.0</td>\n",
       "      <td>1</td>\n",
       "      <td>Tidak</td>\n",
       "      <td>1</td>\n",
       "    </tr>\n",
       "    <tr>\n",
       "      <th>2</th>\n",
       "      <td>1</td>\n",
       "      <td>2</td>\n",
       "      <td>8</td>\n",
       "      <td>10</td>\n",
       "      <td>10.0</td>\n",
       "      <td>11</td>\n",
       "      <td>10.0</td>\n",
       "      <td>1</td>\n",
       "      <td>Tidak</td>\n",
       "      <td>1</td>\n",
       "    </tr>\n",
       "    <tr>\n",
       "      <th>3</th>\n",
       "      <td>1</td>\n",
       "      <td>2</td>\n",
       "      <td>9</td>\n",
       "      <td>2</td>\n",
       "      <td>8.0</td>\n",
       "      <td>11</td>\n",
       "      <td>10.0</td>\n",
       "      <td>1</td>\n",
       "      <td>Tidak</td>\n",
       "      <td>1</td>\n",
       "    </tr>\n",
       "    <tr>\n",
       "      <th>4</th>\n",
       "      <td>2</td>\n",
       "      <td>2</td>\n",
       "      <td>1</td>\n",
       "      <td>12</td>\n",
       "      <td>9.0</td>\n",
       "      <td>11</td>\n",
       "      <td>10.0</td>\n",
       "      <td>1</td>\n",
       "      <td>Ya</td>\n",
       "      <td>0</td>\n",
       "    </tr>\n",
       "  </tbody>\n",
       "</table>\n",
       "</div>"
      ],
      "text/plain": [
       "   Jenis Kelamin  Jenis Tinggal  Alat Transportasi  Pekerjaan Ayah  \\\n",
       "0              1              3                  9               9   \n",
       "1              1              2                  9              12   \n",
       "2              1              2                  8              10   \n",
       "3              1              2                  9               2   \n",
       "4              2              2                  1              12   \n",
       "\n",
       "   Penghasilan Ayah  Pekerjaan Ibu  Penghasilan Ibu  Pemilik Kartu Miskin  \\\n",
       "0               7.0              9              7.0                     1   \n",
       "1               7.0              6              2.0                     1   \n",
       "2              10.0             11             10.0                     1   \n",
       "3               8.0             11             10.0                     1   \n",
       "4               9.0             11             10.0                     1   \n",
       "\n",
       "  Beasiswa  Layak Penerima Beasiswa  \n",
       "0    Tidak                        1  \n",
       "1    Tidak                        1  \n",
       "2    Tidak                        1  \n",
       "3    Tidak                        1  \n",
       "4       Ya                        0  "
      ]
     },
     "execution_count": 41,
     "metadata": {},
     "output_type": "execute_result"
    }
   ],
   "source": [
    "df = pd.read_excel(FILE_NAME)\n",
    "#let the data to be read\n",
    "df['Layak Penerima Beasiswa'] = df['Beasiswa'].apply(lambda x: x.strip().lower())\n",
    "#this is used to named all the class/label balanced in lowercase\n",
    "df['Layak Penerima Beasiswa'] = df['Layak Penerima Beasiswa'].apply(lambda x: 1 if x == 'tidak' else 0)\n",
    "#once it balanced, transform the label class into 1,2 depend on how many class you get on  the data\n",
    "df = df.drop('Nama', axis=1)\n",
    "#drop the unused variabel/attribute\n",
    "df.head()\n",
    "#show the data"
   ]
  },
  {
   "cell_type": "code",
   "execution_count": 43,
   "metadata": {},
   "outputs": [
    {
     "data": {
      "text/plain": [
       "<matplotlib.axes._subplots.AxesSubplot at 0x14f1cf124c8>"
      ]
     },
     "execution_count": 43,
     "metadata": {},
     "output_type": "execute_result"
    },
    {
     "data": {
      "image/png": "[encoded data removed]",
      "text/plain": [
       "<Figure size 432x288 with 1 Axes>"
      ]
     },
     "metadata": {
      "needs_background": "light"
     },
     "output_type": "display_data"
    }
   ],
   "source": [
    "correlation = abs(df.corr()['Layak Penerima Beasiswa']).sort_values()\n",
    "#show the correlation value based on Layak Penerima Beasiswa/the label class\n",
    "correlation.plot(kind='bar')\n",
    "#show the correlation in a diagram"
   ]
  },
  {
   "cell_type": "code",
   "execution_count": 38,
   "metadata": {},
   "outputs": [
    {
     "data": {
      "text/plain": [
       "Jenis Tinggal              0.004171\n",
       "Pekerjaan Ibu              0.007549\n",
       "Penghasilan Ayah           0.013050\n",
       "Pekerjaan Ayah             0.015039\n",
       "Jenis Kelamin              0.031281\n",
       "Penghasilan Ibu            0.073737\n",
       "Alat Transportasi          0.121542\n",
       "Pemilik Kartu Miskin       0.184513\n",
       "Layak Penerima Beasiswa    1.000000\n",
       "Name: Layak Penerima Beasiswa, dtype: float64"
      ]
     },
     "execution_count": 38,
     "metadata": {},
     "output_type": "execute_result"
    }
   ],
   "source": [
    "correlation\n",
    "#show the real value"
   ]
  },
  {
   "cell_type": "code",
   "execution_count": null,
   "metadata": {},
   "outputs": [],
   "source": []
  }
 ],
 "metadata": {
  "kernelspec": {
   "display_name": "Python 3",
   "language": "python",
   "name": "python3"
  },
  "language_info": {
   "codemirror_mode": {
    "name": "ipython",
    "version": 3
   },
   "file_extension": ".py",
   "mimetype": "text/x-python",
   "name": "python",
   "nbconvert_exporter": "python",
   "pygments_lexer": "ipython3",
   "version": "3.7.6"
  }
 },
 "nbformat": 4,
 "nbformat_minor": 4
}
